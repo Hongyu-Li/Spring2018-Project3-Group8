{
 "cells": [
  {
   "cell_type": "markdown",
   "metadata": {},
   "source": [
    "# Project 3 - SVM model"
   ]
  },
  {
   "cell_type": "code",
   "execution_count": 1,
   "metadata": {
    "collapsed": true
   },
   "outputs": [],
   "source": [
    "###############################################################\n",
    "# Author: Jia Zheng  \n",
    "# feature options : \"SITF\", \"SURF\", \"ORB\", \"RGB\", \"HOG\"\n",
    "# kmeans method: mini-batch kmeans\n",
    "# Model: rbf-kernel SVM        \n",
    "###############################################################\n",
    "\n",
    "\n",
    "import cv2\n",
    "import numpy as np\n",
    "from sklearn import svm\n",
    "from sklearn.cluster import MiniBatchKMeans, KMeans\n",
    "from sklearn.externals import joblib\n",
    "from sklearn.model_selection import cross_validate\n",
    "import os\n",
    "import random\n",
    "import time\n",
    "import pandas as pd\n",
    "import re\n",
    "import matplotlib.pyplot as plt"
   ]
  },
  {
   "cell_type": "markdown",
   "metadata": {},
   "source": [
    "## Step 0: specify directories"
   ]
  },
  {
   "cell_type": "code",
   "execution_count": 94,
   "metadata": {
    "collapsed": true
   },
   "outputs": [],
   "source": [
    "img_test_dir = \"../data/test/image/\"\n",
    "img_train_dir = \"../data/train/image/\"\n",
    "\n",
    "label_test_dir = \"../data/test/label/\"\n",
    "label_train_dir = \"../data/train/label/\"\n",
    "\n",
    "output_test_dir = \"../output/test/\"\n",
    "output_train_dir = \"../output/train/\"\n",
    "output_model_dir = \"../output/model/\""
   ]
  },
  {
   "cell_type": "markdown",
   "metadata": {},
   "source": [
    "## Step 1: set up controls for evaluation experiments "
   ]
  },
  {
   "cell_type": "code",
   "execution_count": 95,
   "metadata": {
    "collapsed": true
   },
   "outputs": [],
   "source": [
    "run_cv = True # run cross-validation on the training set\n",
    "run_feature_train = False # process features for training set\n",
    "run_feature_test = False # process features for test set\n",
    "run_model_test = True # run evaluation on an independent test set\n",
    "\n",
    "\n",
    "# N_sample = 50000\n",
    "N_cluster = 50\n",
    "N_CV_fold = 5\n",
    "\n",
    "\n",
    "# feature options : \"SITF\", \"SURF\", \"ORB\", \"RGB\", \"HOG\"\n",
    "# feature dimension   128     64      32    64    54\n",
    "# default: \"HOG\"\n",
    "featureSelect = \"HOG\"\n",
    "d = 54\n"
   ]
  },
  {
   "cell_type": "markdown",
   "metadata": {},
   "source": [
    "## Step 2: import training images class labels."
   ]
  },
  {
   "cell_type": "code",
   "execution_count": 46,
   "metadata": {
    "collapsed": true
   },
   "outputs": [],
   "source": [
    "% run \"../lib/labelResponse.py\""
   ]
  },
  {
   "cell_type": "code",
   "execution_count": 47,
   "metadata": {},
   "outputs": [
    {
     "name": "stdout",
     "output_type": "stream",
     "text": [
      "(2400,)\n"
     ]
    }
   ],
   "source": [
    "# label_csv = pd.read_csv('../data/label_train.csv')\n",
    "# train_label = labelResponse(img_train_dir, label_csv)\n",
    "# filename = label_train_dir + \"label.npy\"\n",
    "# np.save(filename, train_label)\n",
    "\n",
    "train_label = np.load(label_train_dir + \"label.npy\")\n",
    "print(train_label.shape)"
   ]
  },
  {
   "cell_type": "code",
   "execution_count": 48,
   "metadata": {},
   "outputs": [
    {
     "name": "stdout",
     "output_type": "stream",
     "text": [
      "(600,)\n"
     ]
    }
   ],
   "source": [
    "# test_label = labelResponse(img_test_dir, label_csv)\n",
    "# filename = label_test_dir + \"label.npy\"\n",
    "# np.save(filename, test_label)\n",
    "\n",
    "test_label = np.load(label_test_dir + \"label.npy\")\n",
    "print(test_label.shape)"
   ]
  },
  {
   "cell_type": "markdown",
   "metadata": {},
   "source": [
    "## Step 3: Construct feature data"
   ]
  },
  {
   "cell_type": "code",
   "execution_count": 49,
   "metadata": {
    "collapsed": true
   },
   "outputs": [],
   "source": [
    "% run \"../lib/ConstructFeatureData.py\""
   ]
  },
  {
   "cell_type": "code",
   "execution_count": 50,
   "metadata": {},
   "outputs": [
    {
     "name": "stdout",
     "output_type": "stream",
     "text": [
      "Extract features from train set ...\n",
      "Extract (1119865, 32) ORB features from 2400 images\n",
      "Learn vocabulary of features ...\n",
      "Method: Mini-Batch Kmeans\n",
      "Construct data for train set ...\n",
      "The shape of construct data is (2400, 50)\n",
      "Time: 271.52 s\n"
     ]
    }
   ],
   "source": [
    "if run_feature_train:\n",
    "    t0 = time.time()\n",
    "    print(\"Extract features from train set ...\")\n",
    "    extractFeature(img_train_dir, output_train_dir, featureSelect, d) \n",
    "    print(\"Learn vocabulary of features ...\")\n",
    "    learnVocabulary(output_train_dir, featureSelect, N_cluster)  \n",
    "    print(\"Construct data for train set ...\")\n",
    "    constructData(img_train_dir, output_train_dir, output_train_dir, featureSelect, N_cluster)\n",
    "    constuct_train_data_time = round(time.time() - t0, 2)\n",
    "    print(\"Time:\", str(constuct_train_data_time), \"s\")"
   ]
  },
  {
   "cell_type": "code",
   "execution_count": 51,
   "metadata": {},
   "outputs": [
    {
     "name": "stdout",
     "output_type": "stream",
     "text": [
      "Extract features from test set ...\n",
      "Extract (282406, 32) ORB features from 600 images\n",
      "Construct data for test set ...\n",
      "The shape of construct data is (600, 50)\n",
      "Time: 39.44 s\n"
     ]
    }
   ],
   "source": [
    "if run_feature_test:\n",
    "    t0 = time.time()\n",
    "    print(\"Extract features from test set ...\")\n",
    "    extractFeature(img_test_dir, output_test_dir, featureSelect, d)\n",
    "    print(\"Construct data for test set ...\")\n",
    "    constructData(img_test_dir, output_test_dir, output_train_dir, featureSelect, N_cluster)    \n",
    "    constuct_test_data_time = round(time.time() - t0, 2)\n",
    "    print(\"Time:\", str(constuct_test_data_time), \"s\")"
   ]
  },
  {
   "cell_type": "code",
   "execution_count": null,
   "metadata": {
    "collapsed": true
   },
   "outputs": [],
   "source": []
  },
  {
   "cell_type": "markdown",
   "metadata": {},
   "source": [
    "## Step 4: Train a classification model with training images"
   ]
  },
  {
   "cell_type": "code",
   "execution_count": 96,
   "metadata": {
    "collapsed": true
   },
   "outputs": [],
   "source": [
    "% run \"../lib/GridCV.py\"\n",
    "% run \"../lib/trainModel.py\" "
   ]
  },
  {
   "cell_type": "code",
   "execution_count": 97,
   "metadata": {},
   "outputs": [
    {
     "name": "stdout",
     "output_type": "stream",
     "text": [
      "Now conduct cross validation ...\n"
     ]
    },
    {
     "data": {
      "image/png": "[encoded data removed]",
      "text/plain": [
       "<matplotlib.figure.Figure at 0x106c5bc88>"
      ]
     },
     "metadata": {},
     "output_type": "display_data"
    },
    {
     "name": "stdout",
     "output_type": "stream",
     "text": [
      "Select tuning parameter C = 1000.0\n",
      "Select tuning parameter gamma = 1.0\n",
      "Corresponding test score =  0.742083333333\n",
      "Now retain model based on C-opt and gamma-opt ...\n",
      "Classifier:\n",
      "SVC(C=1000.0, cache_size=200, class_weight=None, coef0=0.0,\n",
      "  decision_function_shape='ovr', degree=3, gamma=1.0, kernel='rbf',\n",
      "  max_iter=-1, probability=False, random_state=None, shrinking=True,\n",
      "  tol=0.001, verbose=False)\n",
      "Time: 4441.94 s\n"
     ]
    }
   ],
   "source": [
    "t0 = time.time()\n",
    "if run_cv: \n",
    "    parameters_opt = GridCV(featureSelect, N_CV_fold)\n",
    "    C_opt = parameters_opt['C']\n",
    "    gamma_opt = parameters_opt['gamma']\n",
    "    print(\"Now retain model based on C-opt and gamma-opt ...\")\n",
    "else: \n",
    "    C_opt = 1\n",
    "    gamma_opt = \"auto\"\n",
    "    print(\"Now train model without cross validation ...\")\n",
    "    \n",
    "trainClassifier(featureSelect, C_opt, gamma_opt)\n",
    "model_train_time = round(time.time() - t0, 2)\n",
    "print(\"Time:\", str(model_train_time), \"s\")"
   ]
  },
  {
   "cell_type": "code",
   "execution_count": null,
   "metadata": {},
   "outputs": [],
   "source": [
    "\n"
   ]
  },
  {
   "cell_type": "code",
   "execution_count": null,
   "metadata": {},
   "outputs": [],
   "source": []
  },
  {
   "cell_type": "markdown",
   "metadata": {},
   "source": [
    "## Step 5: Make prediction\n"
   ]
  },
  {
   "cell_type": "code",
   "execution_count": 98,
   "metadata": {
    "collapsed": true
   },
   "outputs": [],
   "source": [
    "% run \"../lib/testModel.py\""
   ]
  },
  {
   "cell_type": "code",
   "execution_count": 99,
   "metadata": {},
   "outputs": [
    {
     "name": "stdout",
     "output_type": "stream",
     "text": [
      "Now classify test set images ...\n",
      "Total accuracy:  446 / 600 = 0.7433\n",
      "Time: 0.12 s\n"
     ]
    }
   ],
   "source": [
    "if run_model_test:\n",
    "    print(\"Now classify test set images ...\")\n",
    "    t0 = time.time()\n",
    "    classify(featureSelect) \n",
    "    model_test_time = round(time.time() - t0, 2)  \n",
    "    print(\"Time:\", str(model_test_time), \"s\")"
   ]
  },
  {
   "cell_type": "markdown",
   "metadata": {},
   "source": [
    "## Summarize Running Time"
   ]
  },
  {
   "cell_type": "code",
   "execution_count": 174,
   "metadata": {},
   "outputs": [
    {
     "name": "stdout",
     "output_type": "stream",
     "text": [
      "Time for constructing training data = 271.52 s\n",
      "Time for constructing testing data = 39.44 s\n",
      "Time for training model = 4441.94 s\n",
      "Time for making prediction = 0.12 s\n"
     ]
    }
   ],
   "source": [
    "print(\"Time for constructing training data =\", str(constuct_train_data_time), \"s\")\n",
    "print(\"Time for constructing testing data =\", str(constuct_test_data_time), \"s\")\n",
    "print(\"Time for training model =\", str(model_train_time), \"s\")\n",
    "print(\"Time for making prediction =\", str(model_test_time), \"s\")"
   ]
  },
  {
   "cell_type": "markdown",
   "metadata": {
    "collapsed": true
   },
   "source": [
    "## Summary plot"
   ]
  },
  {
   "cell_type": "code",
   "execution_count": 168,
   "metadata": {},
   "outputs": [
    {
     "data": {
      "text/plain": [
       "<matplotlib.figure.Figure at 0x1a21e52438>"
      ]
     },
     "metadata": {},
     "output_type": "display_data"
    },
    {
     "data": {
      "image/png": "[encoded data removed]",
      "text/plain": [
       "<matplotlib.figure.Figure at 0x1a224fa7f0>"
      ]
     },
     "metadata": {},
     "output_type": "display_data"
    }
   ],
   "source": [
    "plt.figure()\n",
    "time_table = {'Feature extration from train set': [548.72, 473.33, 271.52, 981.75*0.8, 244.39*0.8],\n",
    "             'Feature extration from test set': [139.71, 100.18, 39.44, 981.75*0.2, 244.39*0.2],\n",
    "             'Test model': [0.14, 0.11, 0.1, 0.12, 0.11],\n",
    "             'Train model': [784.84, 499.19, 357.2, 4441.94, 998.89]}\n",
    "timedf = pd.DataFrame(data=time_table)\n",
    "ax = timedf.plot(kind='barh', stacked=True, figsize=(12,4))\n",
    "ax.set_yticklabels(['SIFT','SURF','ORB','RGB','HOG'])\n",
    "plt.xlabel(\"Time (s)\")\n",
    "plt.title(\"Time Summary of SVM Model\")\n",
    "plt.savefig(\"../figs/Time_summary.jpg\") \n",
    "plt.show()"
   ]
  },
  {
   "cell_type": "code",
   "execution_count": 173,
   "metadata": {},
   "outputs": [
    {
     "data": {
      "text/plain": [
       "<matplotlib.figure.Figure at 0x1a1f593048>"
      ]
     },
     "metadata": {},
     "output_type": "display_data"
    },
    {
     "data": {
      "image/png": "[encoded data removed]",
      "text/plain": [
       "<matplotlib.figure.Figure at 0x1a1f5870b8>"
      ]
     },
     "metadata": {},
     "output_type": "display_data"
    }
   ],
   "source": [
    "n = 5\n",
    "X = np.arange(n)\n",
    "Y1 = np.array([0.4546, 0.3208, 0.2167, 0.2579, 0.1867])\n",
    "Y2 = np.array([0.4917, 0.325, 0.225, 0.2367, 0.205])\n",
    "\n",
    "plt.figure(figsize=(8,6))\n",
    "\n",
    "fig, ax1 = plt.subplots(1,1)\n",
    "\n",
    "x1 = range(0,5)\n",
    "squad1 = ['SIFT','SURF','ORB','RGB','HOG']\n",
    "\n",
    "y1 = np.array([0.25, -0.25])\n",
    "squad2 = ['CV Error','Test Error']\n",
    "\n",
    "ax1.set_xticks(x1)\n",
    "ax1.set_xticklabels(squad1, minor=False, rotation=45)\n",
    "\n",
    "ax1.set_yticks(y1)\n",
    "ax1.set_yticklabels(squad2, minor=False)\n",
    "\n",
    "plt.bar(X, +Y1)\n",
    "plt.bar(X, -Y2)\n",
    "\n",
    "plt.xlim(-.5, n)\n",
    "plt.ylim(-0.6, 0.6)\n",
    "\n",
    "plt.ylabel(\"\")\n",
    "plt.title(\"Error Summary of SVM Model\")\n",
    "plt.savefig(\"../figs/Error_summary.jpg\") \n",
    "plt.show()"
   ]
  }
 ],
 "metadata": {
  "kernelspec": {
   "display_name": "Python 3",
   "language": "python",
   "name": "python3"
  },
  "language_info": {
   "codemirror_mode": {
    "name": "ipython",
    "version": 3
   },
   "file_extension": ".py",
   "mimetype": "text/x-python",
   "name": "python",
   "nbconvert_exporter": "python",
   "pygments_lexer": "ipython3",
   "version": "3.6.3"
  }
 },
 "nbformat": 4,
 "nbformat_minor": 2
}
